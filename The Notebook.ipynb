{
 "cells": [
  {
   "cell_type": "markdown",
   "metadata": {},
   "source": [
    "# THE BUSINESS MACHINE\n",
    "\n",
    "###### (please hire me, Bloomberg)\n",
    "\n",
    "Welcome!\n",
    "\n",
    "Today, you will be forced to learn a bit about a few companies on the stock market. Run the first box to start.\n",
    "\n",
    "(Also, make sure you have numpy-finance installed, if you didn't see it in the readme. pip install numpy-financial)\n",
    "\n",
    "In this project, a file containing financial data will be manipulated and interpreted in a user-friendly way. Services like Bloomberg Terminal do this too. But they cost $2,000/month. Having a tool like this can help an investor make financial decisions."
   ]
  },
  {
   "cell_type": "code",
   "execution_count": 1,
   "metadata": {},
   "outputs": [
    {
     "name": "stdout",
     "output_type": "stream",
     "text": [
      "The stock market is like astrology for gambling addicts.            \n",
      "If you can convince somebody that you can predict their financial success,            \n",
      "(even if you can't), they'll trust you as a guide.\n",
      "\n",
      "That's great. Now let's choose a company to learn about. Click the button.\n"
     ]
    },
    {
     "data": {
      "application/vnd.jupyter.widget-view+json": {
       "model_id": "ca24bc0e919943968a6f11b32493a53f",
       "version_major": 2,
       "version_minor": 0
      },
      "text/plain": [
       "Button(description='the button', style=ButtonStyle())"
      ]
     },
     "metadata": {},
     "output_type": "display_data"
    },
    {
     "name": "stdout",
     "output_type": "stream",
     "text": [
      "\n",
      "Which company would you like to know about? You can pick from 25 companies: \n",
      "Exxon Mobil, Enphase Energy, Cameco, Linde PLC, Ball, \n",
      "Union Pacific, Boeing, Square, Tesla, Walt Disney, \n",
      "Amazon, Nike, Coca-Cola, Procter Gamble, WalMart, \n",
      "Chubb, American Tower, JPMorgan, Ares Capital, UnitedHealth, \n",
      "Johnson & Johnson, Microsoft, Apple, Verizon, or NextEra\n",
      "\n",
      "Pick one, don't be scared. Then run the next box.\n",
      "\n"
     ]
    }
   ],
   "source": [
    "import compaction as cp\n",
    "cp.box1()"
   ]
  },
  {
   "cell_type": "code",
   "execution_count": 3,
   "metadata": {},
   "outputs": [
    {
     "name": "stdout",
     "output_type": "stream",
     "text": [
      "I choose: UnitedHealth\n",
      "UnitedHealth's business is healthcare.\n",
      "Their ticker, which is like an abbreviation, is UNH.\n",
      "UnitedHealth made $15,769,000,000 last year.\n",
      "Wall Street expects UnitedHealth's income to grow 1% yearly.\n",
      "\n",
      "A wise man once said, a company is worth the money it will make in its lifetime,    \n",
      "in terms of today's dollars. Run the next cell to see the biggest companies on the list.\n"
     ]
    }
   ],
   "source": [
    "cp.box2()"
   ]
  },
  {
   "cell_type": "code",
   "execution_count": null,
   "metadata": {},
   "outputs": [],
   "source": [
    "cp.box3()"
   ]
  },
  {
   "cell_type": "markdown",
   "metadata": {},
   "source": [
    "### Extra Credit\n",
    "\n",
    "This is my first time coding in Python. I learned how to use buttons, string formatting, while loops inside of while loops, functions inside of functions inside of functions, dataframe/series/array manipulation, and the numpy-finance module for this project. Taking my newly acquired knowledge of finance, and turning it into a user-friendly Jupyter Notebook was a process that taught me two things: patience, and the power of Python."
   ]
  }
 ],
 "metadata": {
  "kernelspec": {
   "display_name": "Python 3",
   "language": "python",
   "name": "python3"
  },
  "language_info": {
   "codemirror_mode": {
    "name": "ipython",
    "version": 3
   },
   "file_extension": ".py",
   "mimetype": "text/x-python",
   "name": "python",
   "nbconvert_exporter": "python",
   "pygments_lexer": "ipython3",
   "version": "3.7.6"
  }
 },
 "nbformat": 4,
 "nbformat_minor": 4
}
